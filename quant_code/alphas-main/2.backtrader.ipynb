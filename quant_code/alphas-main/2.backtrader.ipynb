{
 "cells": [
  {
   "cell_type": "code",
   "metadata": {},
   "source": [
    "import backtrader as bt\n",
    "import pandas as pd\n",
    "import numpy as np\n",
    "import datetime\n",
    "from copy import deepcopy\n",
    "from datas import *"
   ],
   "outputs": [],
   "execution_count": null
  },
  {
   "cell_type": "markdown",
   "metadata": {},
   "source": [
    "# 一、数据准备"
   ]
  },
  {
   "cell_type": "markdown",
   "metadata": {},
   "source": [
    "## 1.1 读取日度行情表\n",
    "\n",
    "表内字段就是 Backtrader 默认情况下要求输入的 7 个字段： 'datetime' 、'open'、'high'、'low'、'close'、'volume'、'openinterest'，外加一个 'sec_code' 股票代码字段。"
   ]
  },
  {
   "cell_type": "code",
   "metadata": {},
   "source": [
    "year = 2024\n",
    "list_assets, df_assets = get_hs300_stocks(f'{year}-01-01')\n",
    "df_org= get_all_date_data(f'{year}-01-01', f'{year+1}-01-01', list_assets)\n",
    "df1 = df_org.rename(columns={\n",
    "        \"date\": \"datetime\", \n",
    "        \"asset\": \"sec_code\"})\n",
    "df1[\"openinterest\"] = 0\n",
    "daily_price=df1[['sec_code','datetime', \"open\", \"close\", \"high\", \"low\", \"volume\", 'openinterest']]\n",
    "daily_price['datetime'] = pd.to_datetime(daily_price['datetime'])\n",
    "\n",
    "# 以 datetime 为 index，类型为 datetime 或 date 类型，Datafeeds 默认情况下是将 index 匹配给 datetime 字段；\n",
    "daily_price = daily_price.set_index(['datetime'])\n",
    "display(daily_price[daily_price['sec_code'] == '000001'])"
   ],
   "outputs": [],
   "execution_count": null
  },
  {
   "attachments": {},
   "cell_type": "markdown",
   "metadata": {},
   "source": [
    "## 1.2 生成调仓信息表\n",
    "\n",
    "表内数据说明：\n",
    "\n",
    "+ trade_date： 调仓期（每月最后一个交易日）;\n",
    "\n",
    "+ sec_code：持仓成分股；\n",
    "\n",
    "+ weight：持仓权重。"
   ]
  },
  {
   "cell_type": "code",
   "metadata": {},
   "source": [
    "from alphalens.utils import get_clean_factor_and_forward_returns\n",
    "from alphalens.tears import create_full_tear_sheet\n",
    "\n",
    "df_2 = df_org[['date', 'asset', \"close\"]]\n",
    "df_2['date'] = pd.to_datetime(df_2['date'])\n",
    "# print(df_all)\n",
    "\n",
    "close = df_2.pivot(index='date', columns='asset', values='close')\n",
    "\n",
    "alpha_num = 11\n",
    "alpha_name = 'Alphas101'\n",
    "\n",
    "# 读取已经计算好的因子\n",
    "alpha = pd.read_csv('alphas/{}/{}/alpha{:03d}.csv'.format(alpha_name, year, alpha_num))\n",
    "\n",
    "# 筛选出今年的数据，需与股票收盘日期区间一致\n",
    "alpha = alpha[(alpha['date'] >= f'{year}-01-01') & (alpha['date'] <= f'{year+1}-01-01')]\n",
    "\n",
    "# 因子矩阵转换为一维数据(alphalens需要的格式)\n",
    "alpha = alpha.melt(id_vars=['date'], var_name='asset', value_name='factor' )\n",
    "\n",
    "# date列转为日期格式\n",
    "alpha['date'] = pd.to_datetime(alpha['date'])\n",
    "alpha = alpha[['date', 'asset', 'factor']]\n",
    "\n",
    "# 设置二级索引\n",
    "alpha = alpha.set_index(['date', 'asset'], drop=True)\n",
    "alpha.sort_index(inplace=True)\n",
    "\n",
    "\n",
    "ret = get_clean_factor_and_forward_returns(alpha, close,quantiles=5)\n",
    "ret = ret.reset_index()\n",
    "ret = ret[ret['factor_quantile'] == 5]\n",
    "# ret['week'] =  pd.to_datetime(ret['date']).dt.weekday\n",
    "# ret = ret[ret['week'] == 4]\n",
    "ret = ret[['date','asset']]\n",
    "ret['weight'] = 1/60\n",
    "trade_info = ret.rename(columns={\n",
    "        \"date\": \"trade_date\", \n",
    "        \"asset\": \"sec_code\"})\n",
    "display(trade_info[trade_info['trade_date']=='2018-04-03'])"
   ],
   "outputs": [],
   "execution_count": null
  },
  {
   "attachments": {},
   "cell_type": "markdown",
   "metadata": {},
   "source": [
    "# 二、 回测分析"
   ]
  },
  {
   "attachments": {},
   "cell_type": "markdown",
   "metadata": {},
   "source": [
    "## 2.1 加载策略和数据"
   ]
  },
  {
   "cell_type": "code",
   "metadata": {},
   "source": [
    "# 回测策略\n",
    "class TestStrategy(bt.Strategy):\n",
    "    params = (\n",
    "        ('buy_stocks', None), # 传入各个调仓日的股票列表和相应的权重\n",
    "    )\n",
    "    def log(self, txt, dt=None):\n",
    "        ''' Logging function fot this strategy'''\n",
    "        dt = dt or self.datas[0].datetime.date(0)\n",
    "        print(f'{dt.isoformat()}, {txt}')\n",
    "\n",
    "    def __init__(self):\n",
    "         \n",
    "        self.trade_dates = pd.to_datetime(self.p.buy_stocks['trade_date'].unique()).tolist()\n",
    "        self.buy_stock = self.p.buy_stocks # 保留调仓信息\n",
    "        self.order_list = []  # 记录以往订单，在调仓日要全部取消未成交的订单\n",
    "        self.buy_stocks_pre = [] # 记录上一期持仓\n",
    "    \n",
    "    def next(self):\n",
    "        # 获取当前的回测时间点\n",
    "        dt = self.datas[0].datetime.date(0)\n",
    "        # 打印当前时刻的总资产\n",
    "        self.log('当前总资产 %.2f' %(self.broker.getvalue()))\n",
    "        # 如果是调仓日，则进行调仓操作\n",
    "        if dt in self.trade_dates:\n",
    "            print(f\"--------------{dt} 为调仓日----------\")\n",
    "            #取消之前所下的没成交也未到期的订单\n",
    "            if len(self.order_list) > 0:\n",
    "                print(\"--------------- 撤销未完成的订单 -----------------\")\n",
    "                for od in self.order_list:\n",
    "                    # 如果订单未完成，则撤销订单\n",
    "                    self.cancel(od) \n",
    "                 #重置订单列表\n",
    "                self.order_list = [] \n",
    "\n",
    "            # 提取当前调仓日的持仓列表\n",
    "            buy_stocks_data = self.buy_stock.query(f\"trade_date=='{dt}'\")\n",
    "            long_list = buy_stocks_data['sec_code'].tolist()\n",
    "            print('long_list', long_list)  # 打印持仓列表\n",
    "\n",
    "            # 对现有持仓中，调仓后不再继续持有的股票进行卖出平仓\n",
    "            sell_stock = [i for i in self.buy_stocks_pre if i not in long_list]\n",
    "            print('sell_stock', sell_stock)\n",
    "            if sell_stock:\n",
    "                print(\"-----------对不再持有的股票进行平仓--------------\")\n",
    "                for stock in sell_stock:\n",
    "                    data = self.getdatabyname(stock)\n",
    "                    if self.getposition(data).size > 0 :\n",
    "                        od = self.close(data=data)  \n",
    "                        self.order_list.append(od) # 记录卖出订单\n",
    "\n",
    "            # 买入此次调仓的股票：多退少补原则\n",
    "            print(\"-----------买入此次调仓期的股票--------------\")\n",
    "            for stock in long_list:\n",
    "                w = buy_stocks_data.query(f\"sec_code=='{stock}'\")['weight'].iloc[0] # 提取持仓权重\n",
    "                data = self.getdatabyname(stock)\n",
    "                order = self.order_target_percent(data=data, target=w*0.95) # 为减少可用资金不足的情况，留 5% 的现金做备用\n",
    "                self.order_list.append(order)\n",
    "\n",
    "            self.buy_stocks_pre = long_list  # 保存此次调仓的股票列表\n",
    "        \n",
    "    #订单日志    \n",
    "    def notify_order(self, order):\n",
    "        # 未被处理的订单\n",
    "        if order.status in [order.Submitted, order.Accepted]:\n",
    "            return\n",
    "        # 已被处理的订单\n",
    "        if order.status in [order.Completed, order.Canceled, order.Margin]:\n",
    "            if order.isbuy():\n",
    "                self.log(\n",
    "                    'BUY EXECUTED, ref:%.0f, Price: %.2f, Cost: %.2f, Comm %.2f, Size: %.2f, Stock: %s' %\n",
    "                    (order.ref,\n",
    "                     order.executed.price,\n",
    "                     order.executed.value,\n",
    "                     order.executed.comm,\n",
    "                     order.executed.size,\n",
    "                     order.data._name))\n",
    "            else:  # Sell\n",
    "                self.log('SELL EXECUTED, ref:%.0f, Price: %.2f, Cost: %.2f, Comm %.2f, Size: %.2f, Stock: %s' %\n",
    "                        (order.ref,\n",
    "                         order.executed.price,\n",
    "                         order.executed.value,\n",
    "                         order.executed.comm,\n",
    "                         order.executed.size,\n",
    "                         order.data._name))\n",
    "\n",
    "# 实例化大脑\n",
    "cerebro_ = bt.Cerebro() \n",
    "\n",
    "# 按股票代码，依次循环传入数据\n",
    "for stock in daily_price['sec_code'].unique():\n",
    "    # 日期对齐\n",
    "    data = pd.DataFrame(index=daily_price.index.unique())\n",
    "    df = daily_price.query(f\"sec_code=='{stock}'\")[['open','high','low','close','volume','openinterest']]\n",
    "    data_ = pd.merge(data, df, left_index=True, right_index=True, how='left')\n",
    "    data_.loc[:,['volume','openinterest']] = data_.loc[:,['volume','openinterest']].fillna(0)\n",
    "    data_.loc[:,['open','high','low','close']] = data_.loc[:,['open','high','low','close']].fillna(method='pad')\n",
    "    # data_.loc[:,['open','high','low','close']] = data_.loc[:,['open','high','low','close']].fillna(0)\n",
    "    datafeed = bt.feeds.PandasData(dataname=data_, fromdate=datetime.datetime(year,1,1), todate=datetime.datetime(year+1,1,1))\n",
    "    cerebro_.adddata(datafeed, name=stock)\n",
    "    print(f\"{stock} Done !\") "
   ],
   "outputs": [],
   "execution_count": null
  },
  {
   "attachments": {},
   "cell_type": "markdown",
   "metadata": {},
   "source": [
    "## 2.2 添加分析器并执行回测"
   ]
  },
  {
   "cell_type": "code",
   "metadata": {
    "collapsed": true,
    "jupyter": {
     "outputs_hidden": true
    }
   },
   "source": [
    "cerebro = deepcopy(cerebro_)  # 深度复制已经导入数据的 cerebro_，避免重复导入数据 \n",
    "# 初始资金 100,000,000    \n",
    "cerebro.broker.setcash(100000.0) \n",
    "# cerebro.broker.setcommission(commission=0.0015)\n",
    "# 添加策略\n",
    "cerebro.addstrategy(TestStrategy, buy_stocks=trade_info) # 通过修改参数 buy_stocks ，使用同一策略回测不同的持仓列表\n",
    "\n",
    "# 添加分析指标\n",
    "# 返回年初至年末的年度收益率\n",
    "cerebro.addanalyzer(bt.analyzers.AnnualReturn, _name='_AnnualReturn')\n",
    "# 计算最大回撤相关指标\n",
    "cerebro.addanalyzer(bt.analyzers.DrawDown, _name='_DrawDown')\n",
    "# 计算年化收益\n",
    "cerebro.addanalyzer(bt.analyzers.Returns, _name='_Returns', tann=252)\n",
    "# 计算年化夏普比率\n",
    "cerebro.addanalyzer(bt.analyzers.SharpeRatio, _name='_SharpeRatio', timeframe=bt.TimeFrame.Days, annualize=True, riskfreerate=0) # 计算夏普比率\n",
    "cerebro.addanalyzer(bt.analyzers.SharpeRatio_A, _name='_SharpeRatio_A')\n",
    "# 返回收益率时序\n",
    "cerebro.addanalyzer(bt.analyzers.TimeReturn, _name='_TimeReturn')\n",
    "\n",
    "# 启动回测\n",
    "result = cerebro.run()"
   ],
   "outputs": [],
   "execution_count": null
  },
  {
   "cell_type": "markdown",
   "metadata": {},
   "source": [
    "## 2.3 回测结果分析"
   ]
  },
  {
   "cell_type": "code",
   "metadata": {},
   "source": [
    "strat = result[0]\n",
    "# print(\"--------------- AnnualReturn -----------------\")\n",
    "# print(strat.analyzers._AnnualReturn.get_analysis())\n",
    "# print(\"--------------- DrawDown -----------------\")\n",
    "# print(strat.analyzers._DrawDown.get_analysis())\n",
    "# print(\"--------------- Returns -----------------\")\n",
    "# print(strat.analyzers._Returns.get_analysis())\n",
    "# print(\"--------------- SharpeRatio -----------------\")\n",
    "# print(strat.analyzers._SharpeRatio.get_analysis())\n",
    "# print(\"--------------- SharpeRatio_A -----------------\")\n",
    "# print(strat.analyzers._SharpeRatio_A.get_analysis())\n",
    "\n",
    "# 绘制累计收益率\n",
    "ret = pd.Series(strat.analyzers._TimeReturn.get_analysis())\n",
    "(ret + 1).cumprod().plot(figsize=(12,6))\n",
    "\n",
    "ret = [{\n",
    "        '年度': year,\n",
    "        '收益率': strat.analyzers._Returns.get_analysis()['rtot'],\n",
    "        '日均收益率': strat.analyzers._Returns.get_analysis()['ravg'],\n",
    "        '年化收益率': strat.analyzers._Returns.get_analysis()['rnorm'],\n",
    "        '最大回撤(%)': strat.analyzers._DrawDown.get_analysis()['max']['drawdown']\n",
    "        * (-1),\n",
    "        '夏普比率': strat.analyzers._SharpeRatio.get_analysis()['sharperatio'],\n",
    "    }]\n",
    "pd.DataFrame(ret).sort_values(by='年化收益率', ascending=False)"
   ],
   "outputs": [],
   "execution_count": null
  }
 ],
 "metadata": {
  "kernelspec": {
   "display_name": "base",
   "language": "python",
   "name": "python3"
  },
  "language_info": {
   "codemirror_mode": {
    "name": "ipython",
    "version": 3
   },
   "file_extension": ".py",
   "mimetype": "text/x-python",
   "name": "python",
   "nbconvert_exporter": "python",
   "pygments_lexer": "ipython3",
   "version": "3.11.7"
  },
  "vscode": {
   "interpreter": {
    "hash": "e42634819b8c191a5d07eaf23810ff32516dd8d3875f28ec3e488928fbd3c187"
   }
  }
 },
 "nbformat": 4,
 "nbformat_minor": 4
}
